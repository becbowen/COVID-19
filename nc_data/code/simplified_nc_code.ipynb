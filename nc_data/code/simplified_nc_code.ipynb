{
 "cells": [
  {
   "cell_type": "code",
   "execution_count": 1,
   "metadata": {},
   "outputs": [],
   "source": [
    "import pandas as pd\n",
    "import numpy as np\n",
    "import datetime \n",
    "import os "
   ]
  },
  {
   "cell_type": "code",
   "execution_count": 2,
   "metadata": {},
   "outputs": [],
   "source": [
    "#read in the latest dataset\n",
    "time_series = pd.read_csv(\"../../../databases/JHU/COVID-19/csse_covid_19_data/csse_covid_19_time_series/time_series_covid19_confirmed_US.csv\")\n",
    "#time_series.head()"
   ]
  },
  {
   "cell_type": "code",
   "execution_count": 3,
   "metadata": {},
   "outputs": [],
   "source": [
    "#keep only rows with NC county data\n",
    "time_series = time_series[time_series[\"Province_State\"] == \"North Carolina\"]\n",
    "time_series = time_series[time_series[\"Admin2\"] != \"Out of NC\"]\n",
    "time_series = time_series[time_series[\"Admin2\"] != \"Unassigned\"]\n",
    "#time_series.head()"
   ]
  },
  {
   "cell_type": "code",
   "execution_count": 4,
   "metadata": {},
   "outputs": [
    {
     "data": {
      "text/html": [
       "<div>\n",
       "<style scoped>\n",
       "    .dataframe tbody tr th:only-of-type {\n",
       "        vertical-align: middle;\n",
       "    }\n",
       "\n",
       "    .dataframe tbody tr th {\n",
       "        vertical-align: top;\n",
       "    }\n",
       "\n",
       "    .dataframe thead th {\n",
       "        text-align: right;\n",
       "    }\n",
       "</style>\n",
       "<table border=\"1\" class=\"dataframe\">\n",
       "  <thead>\n",
       "    <tr style=\"text-align: right;\">\n",
       "      <th></th>\n",
       "      <th>FIPS</th>\n",
       "      <th>Admin2</th>\n",
       "      <th>Province_State</th>\n",
       "      <th>Lat</th>\n",
       "      <th>Long_</th>\n",
       "    </tr>\n",
       "  </thead>\n",
       "  <tbody>\n",
       "    <tr>\n",
       "      <th>1895</th>\n",
       "      <td>37001.0</td>\n",
       "      <td>Alamance</td>\n",
       "      <td>North Carolina</td>\n",
       "      <td>36.043470</td>\n",
       "      <td>-79.399761</td>\n",
       "    </tr>\n",
       "    <tr>\n",
       "      <th>1896</th>\n",
       "      <td>37003.0</td>\n",
       "      <td>Alexander</td>\n",
       "      <td>North Carolina</td>\n",
       "      <td>35.922380</td>\n",
       "      <td>-81.177519</td>\n",
       "    </tr>\n",
       "    <tr>\n",
       "      <th>1897</th>\n",
       "      <td>37005.0</td>\n",
       "      <td>Alleghany</td>\n",
       "      <td>North Carolina</td>\n",
       "      <td>36.493609</td>\n",
       "      <td>-81.128570</td>\n",
       "    </tr>\n",
       "    <tr>\n",
       "      <th>1898</th>\n",
       "      <td>37007.0</td>\n",
       "      <td>Anson</td>\n",
       "      <td>North Carolina</td>\n",
       "      <td>34.974032</td>\n",
       "      <td>-80.099533</td>\n",
       "    </tr>\n",
       "    <tr>\n",
       "      <th>1899</th>\n",
       "      <td>37009.0</td>\n",
       "      <td>Ashe</td>\n",
       "      <td>North Carolina</td>\n",
       "      <td>36.432962</td>\n",
       "      <td>-81.498627</td>\n",
       "    </tr>\n",
       "  </tbody>\n",
       "</table>\n",
       "</div>"
      ],
      "text/plain": [
       "         FIPS     Admin2  Province_State        Lat      Long_\n",
       "1895  37001.0   Alamance  North Carolina  36.043470 -79.399761\n",
       "1896  37003.0  Alexander  North Carolina  35.922380 -81.177519\n",
       "1897  37005.0  Alleghany  North Carolina  36.493609 -81.128570\n",
       "1898  37007.0      Anson  North Carolina  34.974032 -80.099533\n",
       "1899  37009.0       Ashe  North Carolina  36.432962 -81.498627"
      ]
     },
     "execution_count": 4,
     "metadata": {},
     "output_type": "execute_result"
    }
   ],
   "source": [
    "#define a dataframe with just the county information\n",
    "nc_counties = time_series[[\"FIPS\", \"Admin2\",\"Province_State\",\"Lat\",\"Long_\"]]\n",
    "nc_counties.head()"
   ]
  },
  {
   "cell_type": "code",
   "execution_count": 5,
   "metadata": {},
   "outputs": [
    {
     "data": {
      "text/plain": [
       "128"
      ]
     },
     "execution_count": 5,
     "metadata": {},
     "output_type": "execute_result"
    }
   ],
   "source": [
    "#define a variable to define the end date of data to be included\n",
    "startdate = datetime.datetime(2020,3,4)\n",
    "today = datetime.datetime.today()\n",
    "offset = 53 + (today-startdate).days\n",
    "offset"
   ]
  },
  {
   "cell_type": "code",
   "execution_count": 6,
   "metadata": {},
   "outputs": [
    {
     "data": {
      "text/html": [
       "<div>\n",
       "<style scoped>\n",
       "    .dataframe tbody tr th:only-of-type {\n",
       "        vertical-align: middle;\n",
       "    }\n",
       "\n",
       "    .dataframe tbody tr th {\n",
       "        vertical-align: top;\n",
       "    }\n",
       "\n",
       "    .dataframe thead th {\n",
       "        text-align: right;\n",
       "    }\n",
       "</style>\n",
       "<table border=\"1\" class=\"dataframe\">\n",
       "  <thead>\n",
       "    <tr style=\"text-align: right;\">\n",
       "      <th></th>\n",
       "      <th>3/4/20</th>\n",
       "      <th>3/5/20</th>\n",
       "      <th>3/6/20</th>\n",
       "      <th>3/7/20</th>\n",
       "      <th>3/8/20</th>\n",
       "      <th>3/9/20</th>\n",
       "      <th>3/10/20</th>\n",
       "      <th>3/11/20</th>\n",
       "      <th>3/12/20</th>\n",
       "      <th>3/13/20</th>\n",
       "      <th>...</th>\n",
       "      <th>5/8/20</th>\n",
       "      <th>5/9/20</th>\n",
       "      <th>5/10/20</th>\n",
       "      <th>5/11/20</th>\n",
       "      <th>5/12/20</th>\n",
       "      <th>5/13/20</th>\n",
       "      <th>5/14/20</th>\n",
       "      <th>5/15/20</th>\n",
       "      <th>5/16/20</th>\n",
       "      <th>5/17/20</th>\n",
       "    </tr>\n",
       "  </thead>\n",
       "  <tbody>\n",
       "    <tr>\n",
       "      <th>1895</th>\n",
       "      <td>0</td>\n",
       "      <td>0</td>\n",
       "      <td>0</td>\n",
       "      <td>0</td>\n",
       "      <td>0</td>\n",
       "      <td>0</td>\n",
       "      <td>0</td>\n",
       "      <td>0</td>\n",
       "      <td>0</td>\n",
       "      <td>0</td>\n",
       "      <td>...</td>\n",
       "      <td>149</td>\n",
       "      <td>152</td>\n",
       "      <td>173</td>\n",
       "      <td>183</td>\n",
       "      <td>183</td>\n",
       "      <td>190</td>\n",
       "      <td>196</td>\n",
       "      <td>196</td>\n",
       "      <td>203</td>\n",
       "      <td>217</td>\n",
       "    </tr>\n",
       "    <tr>\n",
       "      <th>1896</th>\n",
       "      <td>0</td>\n",
       "      <td>0</td>\n",
       "      <td>0</td>\n",
       "      <td>0</td>\n",
       "      <td>0</td>\n",
       "      <td>0</td>\n",
       "      <td>0</td>\n",
       "      <td>0</td>\n",
       "      <td>0</td>\n",
       "      <td>0</td>\n",
       "      <td>...</td>\n",
       "      <td>8</td>\n",
       "      <td>10</td>\n",
       "      <td>12</td>\n",
       "      <td>12</td>\n",
       "      <td>13</td>\n",
       "      <td>14</td>\n",
       "      <td>15</td>\n",
       "      <td>15</td>\n",
       "      <td>18</td>\n",
       "      <td>21</td>\n",
       "    </tr>\n",
       "    <tr>\n",
       "      <th>1897</th>\n",
       "      <td>0</td>\n",
       "      <td>0</td>\n",
       "      <td>0</td>\n",
       "      <td>0</td>\n",
       "      <td>0</td>\n",
       "      <td>0</td>\n",
       "      <td>0</td>\n",
       "      <td>0</td>\n",
       "      <td>0</td>\n",
       "      <td>0</td>\n",
       "      <td>...</td>\n",
       "      <td>7</td>\n",
       "      <td>7</td>\n",
       "      <td>8</td>\n",
       "      <td>8</td>\n",
       "      <td>8</td>\n",
       "      <td>10</td>\n",
       "      <td>10</td>\n",
       "      <td>10</td>\n",
       "      <td>11</td>\n",
       "      <td>11</td>\n",
       "    </tr>\n",
       "    <tr>\n",
       "      <th>1898</th>\n",
       "      <td>0</td>\n",
       "      <td>0</td>\n",
       "      <td>0</td>\n",
       "      <td>0</td>\n",
       "      <td>0</td>\n",
       "      <td>0</td>\n",
       "      <td>0</td>\n",
       "      <td>0</td>\n",
       "      <td>0</td>\n",
       "      <td>0</td>\n",
       "      <td>...</td>\n",
       "      <td>37</td>\n",
       "      <td>38</td>\n",
       "      <td>38</td>\n",
       "      <td>38</td>\n",
       "      <td>39</td>\n",
       "      <td>40</td>\n",
       "      <td>41</td>\n",
       "      <td>43</td>\n",
       "      <td>46</td>\n",
       "      <td>49</td>\n",
       "    </tr>\n",
       "    <tr>\n",
       "      <th>1899</th>\n",
       "      <td>0</td>\n",
       "      <td>0</td>\n",
       "      <td>0</td>\n",
       "      <td>0</td>\n",
       "      <td>0</td>\n",
       "      <td>0</td>\n",
       "      <td>0</td>\n",
       "      <td>0</td>\n",
       "      <td>0</td>\n",
       "      <td>0</td>\n",
       "      <td>...</td>\n",
       "      <td>7</td>\n",
       "      <td>8</td>\n",
       "      <td>13</td>\n",
       "      <td>13</td>\n",
       "      <td>14</td>\n",
       "      <td>16</td>\n",
       "      <td>17</td>\n",
       "      <td>17</td>\n",
       "      <td>26</td>\n",
       "      <td>27</td>\n",
       "    </tr>\n",
       "  </tbody>\n",
       "</table>\n",
       "<p>5 rows × 75 columns</p>\n",
       "</div>"
      ],
      "text/plain": [
       "      3/4/20  3/5/20  3/6/20  3/7/20  3/8/20  3/9/20  3/10/20  3/11/20  \\\n",
       "1895       0       0       0       0       0       0        0        0   \n",
       "1896       0       0       0       0       0       0        0        0   \n",
       "1897       0       0       0       0       0       0        0        0   \n",
       "1898       0       0       0       0       0       0        0        0   \n",
       "1899       0       0       0       0       0       0        0        0   \n",
       "\n",
       "      3/12/20  3/13/20  ...  5/8/20  5/9/20  5/10/20  5/11/20  5/12/20  \\\n",
       "1895        0        0  ...     149     152      173      183      183   \n",
       "1896        0        0  ...       8      10       12       12       13   \n",
       "1897        0        0  ...       7       7        8        8        8   \n",
       "1898        0        0  ...      37      38       38       38       39   \n",
       "1899        0        0  ...       7       8       13       13       14   \n",
       "\n",
       "      5/13/20  5/14/20  5/15/20  5/16/20  5/17/20  \n",
       "1895      190      196      196      203      217  \n",
       "1896       14       15       15       18       21  \n",
       "1897       10       10       10       11       11  \n",
       "1898       40       41       43       46       49  \n",
       "1899       16       17       17       26       27  \n",
       "\n",
       "[5 rows x 75 columns]"
      ]
     },
     "execution_count": 6,
     "metadata": {},
     "output_type": "execute_result"
    }
   ],
   "source": [
    "#define a dataframe with just the total cases by county each day\n",
    "dates = time_series.iloc[:,53:offset]\n",
    "dates.head()"
   ]
  },
  {
   "cell_type": "code",
   "execution_count": 7,
   "metadata": {},
   "outputs": [],
   "source": [
    "#define an empty dataframe to transpose the cases by date into a new row for each county-date pair\n",
    "nc_time_series = pd.DataFrame(columns = [\"FIPS\",\"Admin2\",\"Province_State\",\"Lat\",\"Long_\",\"Confirmed\",\"Date\"])"
   ]
  },
  {
   "cell_type": "code",
   "execution_count": 8,
   "metadata": {},
   "outputs": [
    {
     "data": {
      "text/html": [
       "<div>\n",
       "<style scoped>\n",
       "    .dataframe tbody tr th:only-of-type {\n",
       "        vertical-align: middle;\n",
       "    }\n",
       "\n",
       "    .dataframe tbody tr th {\n",
       "        vertical-align: top;\n",
       "    }\n",
       "\n",
       "    .dataframe thead th {\n",
       "        text-align: right;\n",
       "    }\n",
       "</style>\n",
       "<table border=\"1\" class=\"dataframe\">\n",
       "  <thead>\n",
       "    <tr style=\"text-align: right;\">\n",
       "      <th></th>\n",
       "      <th>FIPS</th>\n",
       "      <th>Admin2</th>\n",
       "      <th>Province_State</th>\n",
       "      <th>Lat</th>\n",
       "      <th>Long_</th>\n",
       "      <th>Confirmed</th>\n",
       "      <th>Date</th>\n",
       "    </tr>\n",
       "  </thead>\n",
       "  <tbody>\n",
       "    <tr>\n",
       "      <th>1895</th>\n",
       "      <td>37001.0</td>\n",
       "      <td>Alamance</td>\n",
       "      <td>North Carolina</td>\n",
       "      <td>36.043470</td>\n",
       "      <td>-79.399761</td>\n",
       "      <td>0</td>\n",
       "      <td>3/4/20</td>\n",
       "    </tr>\n",
       "    <tr>\n",
       "      <th>1896</th>\n",
       "      <td>37003.0</td>\n",
       "      <td>Alexander</td>\n",
       "      <td>North Carolina</td>\n",
       "      <td>35.922380</td>\n",
       "      <td>-81.177519</td>\n",
       "      <td>0</td>\n",
       "      <td>3/4/20</td>\n",
       "    </tr>\n",
       "    <tr>\n",
       "      <th>1897</th>\n",
       "      <td>37005.0</td>\n",
       "      <td>Alleghany</td>\n",
       "      <td>North Carolina</td>\n",
       "      <td>36.493609</td>\n",
       "      <td>-81.128570</td>\n",
       "      <td>0</td>\n",
       "      <td>3/4/20</td>\n",
       "    </tr>\n",
       "    <tr>\n",
       "      <th>1898</th>\n",
       "      <td>37007.0</td>\n",
       "      <td>Anson</td>\n",
       "      <td>North Carolina</td>\n",
       "      <td>34.974032</td>\n",
       "      <td>-80.099533</td>\n",
       "      <td>0</td>\n",
       "      <td>3/4/20</td>\n",
       "    </tr>\n",
       "    <tr>\n",
       "      <th>1899</th>\n",
       "      <td>37009.0</td>\n",
       "      <td>Ashe</td>\n",
       "      <td>North Carolina</td>\n",
       "      <td>36.432962</td>\n",
       "      <td>-81.498627</td>\n",
       "      <td>0</td>\n",
       "      <td>3/4/20</td>\n",
       "    </tr>\n",
       "  </tbody>\n",
       "</table>\n",
       "</div>"
      ],
      "text/plain": [
       "         FIPS     Admin2  Province_State        Lat      Long_ Confirmed  \\\n",
       "1895  37001.0   Alamance  North Carolina  36.043470 -79.399761         0   \n",
       "1896  37003.0  Alexander  North Carolina  35.922380 -81.177519         0   \n",
       "1897  37005.0  Alleghany  North Carolina  36.493609 -81.128570         0   \n",
       "1898  37007.0      Anson  North Carolina  34.974032 -80.099533         0   \n",
       "1899  37009.0       Ashe  North Carolina  36.432962 -81.498627         0   \n",
       "\n",
       "        Date  \n",
       "1895  3/4/20  \n",
       "1896  3/4/20  \n",
       "1897  3/4/20  \n",
       "1898  3/4/20  \n",
       "1899  3/4/20  "
      ]
     },
     "execution_count": 8,
     "metadata": {},
     "output_type": "execute_result"
    }
   ],
   "source": [
    "#fill in the dataframe\n",
    "cols = dates.columns\n",
    "\n",
    "for i in range(0,len(cols)):\n",
    "    one_day = pd.DataFrame(columns = [\"Confirmed\", \"Date\"])\n",
    "    one_day[\"Confirmed\"] = dates.iloc[:,i]\n",
    "    one_day[\"Date\"] = cols[i]\n",
    "    county_time = nc_counties.join(one_day)\n",
    "    nc_time_series = nc_time_series.append(county_time)\n",
    "#    county_time.append(one_day)\n",
    "#    print(one_day)\n",
    "nc_time_series.head()\n"
   ]
  },
  {
   "cell_type": "code",
   "execution_count": 9,
   "metadata": {},
   "outputs": [],
   "source": [
    "nc_time_series.reset_index(inplace = True)\n",
    "nc_time_series.drop(\"index\", axis = 1, inplace = True)"
   ]
  },
  {
   "cell_type": "code",
   "execution_count": 10,
   "metadata": {},
   "outputs": [],
   "source": [
    "nc_time_series[\"Date\"] = pd.to_datetime(nc_time_series.Date)\n",
    "#nc_time_series.dtypes"
   ]
  },
  {
   "cell_type": "code",
   "execution_count": 11,
   "metadata": {},
   "outputs": [],
   "source": [
    "#convert Date column to format that will be uniform across use cases\n",
    "#nc_time_series[\"Date\"] = nc_time_series[\"Date\"].dt.to_period(\"D\")"
   ]
  },
  {
   "cell_type": "code",
   "execution_count": 12,
   "metadata": {},
   "outputs": [],
   "source": [
    "#add a column with a unique value that can be used to establish a relationship with other datasheets\n",
    "nc_time_series[\"Unique\"] = nc_time_series[\"Admin2\"]+\", \"+nc_time_series[\"Date\"].astype(str)\n",
    "\n",
    "#add a column so location will be readable by power BI\n",
    "nc_time_series[\"Location\"] = nc_time_series[\"Admin2\"]+\" County \"+nc_time_series[\"Province_State\"]"
   ]
  },
  {
   "cell_type": "code",
   "execution_count": 13,
   "metadata": {},
   "outputs": [],
   "source": [
    "#nc_time_series.tail()"
   ]
  },
  {
   "cell_type": "code",
   "execution_count": 14,
   "metadata": {},
   "outputs": [],
   "source": [
    "#nc_time_series.head()"
   ]
  },
  {
   "cell_type": "code",
   "execution_count": 15,
   "metadata": {},
   "outputs": [],
   "source": [
    "nc_time_series.sort_values(by = [\"Unique\",\"Date\"], inplace = True, ignore_index = True)\n",
    "#nc_time_series.head()"
   ]
  },
  {
   "cell_type": "code",
   "execution_count": 16,
   "metadata": {},
   "outputs": [],
   "source": [
    "nc_time_series[\"New_Cases\"] = nc_time_series[\"Confirmed\"]-nc_time_series[\"Confirmed\"].shift(1)\n",
    "#nc_time_series.tail()"
   ]
  },
  {
   "cell_type": "code",
   "execution_count": 17,
   "metadata": {},
   "outputs": [],
   "source": [
    "nc_time_series[\"Rolling_Avg\"] = (nc_time_series[\"Confirmed\"]+nc_time_series[\"Confirmed\"].shift(1)+nc_time_series[\"Confirmed\"].shift(2)+nc_time_series[\"Confirmed\"].shift(3)+nc_time_series[\"Confirmed\"].shift(4)+nc_time_series[\"Confirmed\"].shift(5)+nc_time_series[\"Confirmed\"].shift(6)+nc_time_series[\"Confirmed\"].shift(7)+nc_time_series[\"Confirmed\"].shift(8)+nc_time_series[\"Confirmed\"].shift(9)+nc_time_series[\"Confirmed\"].shift(10)+nc_time_series[\"Confirmed\"].shift(11)+nc_time_series[\"Confirmed\"].shift(12)+nc_time_series[\"Confirmed\"].shift(13))/14\n",
    "#nc_time_series.tail()"
   ]
  },
  {
   "cell_type": "code",
   "execution_count": 18,
   "metadata": {},
   "outputs": [],
   "source": [
    "nc_time_series[\"New_Case_Roll_Avg\"] = (nc_time_series[\"New_Cases\"]+nc_time_series[\"New_Cases\"].shift(1)+nc_time_series[\"New_Cases\"].shift(2)+nc_time_series[\"New_Cases\"].shift(3)+nc_time_series[\"New_Cases\"].shift(4)+nc_time_series[\"New_Cases\"].shift(5)+nc_time_series[\"New_Cases\"].shift(6)+nc_time_series[\"New_Cases\"].shift(7)+nc_time_series[\"New_Cases\"].shift(8)+nc_time_series[\"New_Cases\"].shift(9)+nc_time_series[\"New_Cases\"].shift(10)+nc_time_series[\"New_Cases\"].shift(11)+nc_time_series[\"New_Cases\"].shift(12)+nc_time_series[\"New_Cases\"].shift(13))/14\n",
    "#nc_time_series.head()"
   ]
  },
  {
   "cell_type": "code",
   "execution_count": 19,
   "metadata": {},
   "outputs": [],
   "source": [
    "timeframe = 14\n",
    "nc_time_series[\"New_Case_Change\"] = (nc_time_series[\"New_Case_Roll_Avg\"]-nc_time_series[\"New_Case_Roll_Avg\"].shift(14))/timeframe\n",
    "#nc_time_series.tail()"
   ]
  },
  {
   "cell_type": "code",
   "execution_count": 20,
   "metadata": {},
   "outputs": [],
   "source": [
    "nc_time_series[\"Normalized_Change\"] = nc_time_series.apply(lambda row: row.New_Case_Change/row.New_Case_Roll_Avg if row.New_Case_Roll_Avg !=0 else 0, axis = 1)\n",
    "#nc_time_series.tail()"
   ]
  },
  {
   "cell_type": "code",
   "execution_count": 21,
   "metadata": {},
   "outputs": [
    {
     "data": {
      "text/plain": [
       "datetime.datetime(2020, 3, 18, 0, 0)"
      ]
     },
     "execution_count": 21,
     "metadata": {},
     "output_type": "execute_result"
    }
   ],
   "source": [
    "offset2 = datetime.timedelta(days = 14)\n",
    "firstdate = startdate + offset2 \n",
    "firstdate"
   ]
  },
  {
   "cell_type": "code",
   "execution_count": 22,
   "metadata": {},
   "outputs": [],
   "source": [
    "nc_time_series = nc_time_series[nc_time_series[\"Date\"]>firstdate]\n",
    "#nc_time_series.head()"
   ]
  },
  {
   "cell_type": "code",
   "execution_count": 23,
   "metadata": {},
   "outputs": [
    {
     "data": {
      "text/plain": [
       "datetime.datetime(2020, 5, 16, 23, 15, 7, 621409)"
      ]
     },
     "execution_count": 23,
     "metadata": {},
     "output_type": "execute_result"
    }
   ],
   "source": [
    "offset3 = datetime.timedelta(days = 2)\n",
    "olddate = today - offset3\n",
    "olddate"
   ]
  },
  {
   "cell_type": "code",
   "execution_count": 24,
   "metadata": {},
   "outputs": [],
   "source": [
    "nc_time_series_today = nc_time_series[nc_time_series[\"Date\"] > olddate]"
   ]
  },
  {
   "cell_type": "code",
   "execution_count": 25,
   "metadata": {},
   "outputs": [],
   "source": [
    "nc_time_series = nc_time_series[[\"Admin2\",\"Province_State\",\"Location\",\"Unique\",\"Date\",\"Lat\",\"Long_\",\"Confirmed\",\"Rolling_Avg\",\n",
    "                                \"New_Cases\",\"New_Case_Roll_Avg\",\"New_Case_Change\",\"Normalized_Change\"]]\n",
    "nc_time_series_today = nc_time_series_today[[\"Admin2\",\"Province_State\",\"Location\",\"Unique\",\"Date\",\"Lat\",\"Long_\",\"Confirmed\",\"Rolling_Avg\",\n",
    "                                \"New_Cases\",\"New_Case_Roll_Avg\",\"New_Case_Change\",\"Normalized_Change\"]]\n",
    "#nc_time_series.head()"
   ]
  },
  {
   "cell_type": "code",
   "execution_count": 26,
   "metadata": {},
   "outputs": [],
   "source": [
    "nc_time_series.to_excel(\"../clean_data/nc_time_series.xlsx\")\n",
    "nc_time_series_today.to_excel(\"../clean_data/nc_time_series_today.xlsx\")"
   ]
  },
  {
   "cell_type": "code",
   "execution_count": null,
   "metadata": {},
   "outputs": [],
   "source": []
  }
 ],
 "metadata": {
  "kernelspec": {
   "display_name": "Python 3",
   "language": "python",
   "name": "python3"
  },
  "language_info": {
   "codemirror_mode": {
    "name": "ipython",
    "version": 3
   },
   "file_extension": ".py",
   "mimetype": "text/x-python",
   "name": "python",
   "nbconvert_exporter": "python",
   "pygments_lexer": "ipython3",
   "version": "3.7.0"
  }
 },
 "nbformat": 4,
 "nbformat_minor": 2
}
